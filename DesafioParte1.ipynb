{
  "nbformat": 4,
  "nbformat_minor": 0,
  "metadata": {
    "colab": {
      "provenance": [],
      "authorship_tag": "ABX9TyMYHmNPXB/Sj4roykNNWY0c",
      "include_colab_link": true
    },
    "kernelspec": {
      "name": "python3",
      "display_name": "Python 3"
    },
    "language_info": {
      "name": "python"
    }
  },
  "cells": [
    {
      "cell_type": "markdown",
      "metadata": {
        "id": "view-in-github",
        "colab_type": "text"
      },
      "source": [
        "<a href=\"https://colab.research.google.com/github/noemicho/pokeAPI/blob/main/DesafioParte1.ipynb\" target=\"_parent\"><img src=\"https://colab.research.google.com/assets/colab-badge.svg\" alt=\"Open In Colab\"/></a>"
      ]
    },
    {
      "cell_type": "markdown",
      "source": [
        "## **Desafio Técnico - pokeAPI**"
      ],
      "metadata": {
        "id": "dzd54747Uz55"
      }
    },
    {
      "cell_type": "markdown",
      "source": [
        "#### Escolhendo Pokemon aleatório para visualizar os nomes das colunas"
      ],
      "metadata": {
        "id": "q5zq56klVJR8"
      }
    },
    {
      "cell_type": "code",
      "execution_count": 52,
      "metadata": {
        "id": "gKisxXGkPQoj",
        "colab": {
          "base_uri": "https://localhost:8080/"
        },
        "outputId": "41adedb5-6cfa-4f71-86bd-45847e91429d"
      },
      "outputs": [
        {
          "output_type": "stream",
          "name": "stdout",
          "text": [
            "Requisição OK\n",
            "dict_keys(['abilities', 'base_experience', 'cries', 'forms', 'game_indices', 'height', 'held_items', 'id', 'is_default', 'location_area_encounters', 'moves', 'name', 'order', 'past_abilities', 'past_types', 'species', 'sprites', 'stats', 'types', 'weight'])\n"
          ]
        }
      ],
      "source": [
        "# Importando bibliotecas\n",
        "import requests\n",
        "import pandas as pd\n",
        "\n",
        "# URL do pokemon Bulbasaur\n",
        "url_bulbasaur = \"https://pokeapi.co/api/v2/pokemon/bulbasaur\"\n",
        "\n",
        "response = requests.get(url_bulbasaur)\n",
        "\n",
        "# Se a requisição da API for ok, transformar dados para JSON\n",
        "if response.status_code == 200:\n",
        "    print(\"Requisição OK\")\n",
        "    data_bulbasaur = response.json()\n",
        "else:\n",
        "    print(f\"Erro: {response.status_code}\")\n",
        "\n",
        "# Listando as colunas dos dados dos Pokemons\n",
        "print(data_bulbasaur.keys())\n"
      ]
    },
    {
      "cell_type": "markdown",
      "source": [
        "#### Criando Dataframe com amostra de 151 pokemons (Primeira Geração de Pokemon)"
      ],
      "metadata": {
        "id": "XnvQtBdMVAwO"
      }
    },
    {
      "cell_type": "code",
      "source": [
        "# Função para pegar dados de um Pokemon pelo id\n",
        "def get_pokemon_data(pokemon_id):\n",
        "    url = f\"https://pokeapi.co/api/v2/pokemon/{pokemon_id}\"\n",
        "    response = requests.get(url)\n",
        "    return response.json() if response.status_code == 200 else None\n",
        "\n",
        "pokemon_list = []\n",
        "\n",
        "# Definindo intervalo para quantidade de pokemons\n",
        "for pokemon_id in range(1, 152):\n",
        "    data = get_pokemon_data(pokemon_id)\n",
        "\n",
        "    # Se a requisição foi ok\n",
        "    if data:\n",
        "        pokemon_data = {\n",
        "            \"name\": data[\"name\"],\n",
        "            \"id\": data[\"id\"],\n",
        "            \"weight\": data[\"weight\"],\n",
        "            \"height\": data[\"height\"],\n",
        "            \"XP\": data[\"base_experience\"],\n",
        "            \"abilities\": [h[\"ability\"][\"name\"] for h in data[\"abilities\"]],\n",
        "            \"moves\": [m[\"move\"][\"name\"] for m in data[\"moves\"]],\n",
        "            \"types\": [t[\"type\"][\"name\"] for t in data[\"types\"]]\n",
        "        }\n",
        "        pokemon_list.append(pokemon_data)\n",
        "    else:\n",
        "        print(\"Erro em coletar dados...\")\n",
        "\n",
        "# Tranformando em DataFrame\n",
        "df = pd.DataFrame(pokemon_list)\n",
        "print(df)\n",
        ""
      ],
      "metadata": {
        "colab": {
          "base_uri": "https://localhost:8080/"
        },
        "id": "l-RLg1Anh3Vq",
        "outputId": "8a13fe45-3e28-4982-a9c2-634ea5673334"
      },
      "execution_count": 53,
      "outputs": [
        {
          "output_type": "stream",
          "name": "stdout",
          "text": [
            "           name   id  weight  height   XP                  abilities  \\\n",
            "0     bulbasaur    1      69       7   64    [overgrow, chlorophyll]   \n",
            "1       ivysaur    2     130      10  142    [overgrow, chlorophyll]   \n",
            "2      venusaur    3    1000      20  263    [overgrow, chlorophyll]   \n",
            "3    charmander    4      85       6   62       [blaze, solar-power]   \n",
            "4    charmeleon    5     190      11  142       [blaze, solar-power]   \n",
            "..          ...  ...     ...     ...  ...                        ...   \n",
            "146     dratini  147      33      18   60  [shed-skin, marvel-scale]   \n",
            "147   dragonair  148     165      40  147  [shed-skin, marvel-scale]   \n",
            "148   dragonite  149    2100      22  300  [inner-focus, multiscale]   \n",
            "149      mewtwo  150    1220      20  340        [pressure, unnerve]   \n",
            "150         mew  151      40       4  300              [synchronize]   \n",
            "\n",
            "                                                 moves             types  \n",
            "0    [razor-wind, swords-dance, cut, bind, vine-whi...   [grass, poison]  \n",
            "1    [swords-dance, cut, bind, vine-whip, headbutt,...   [grass, poison]  \n",
            "2    [swords-dance, cut, bind, vine-whip, headbutt,...   [grass, poison]  \n",
            "3    [mega-punch, fire-punch, thunder-punch, scratc...            [fire]  \n",
            "4    [mega-punch, fire-punch, thunder-punch, scratc...            [fire]  \n",
            "..                                                 ...               ...  \n",
            "146  [bind, slam, headbutt, body-slam, wrap, take-d...          [dragon]  \n",
            "147  [bind, slam, headbutt, horn-drill, body-slam, ...          [dragon]  \n",
            "148  [mega-punch, fire-punch, ice-punch, thunder-pu...  [dragon, flying]  \n",
            "149  [mega-punch, pay-day, fire-punch, ice-punch, t...         [psychic]  \n",
            "150  [pound, mega-punch, pay-day, fire-punch, ice-p...         [psychic]  \n",
            "\n",
            "[151 rows x 8 columns]\n"
          ]
        }
      ]
    },
    {
      "cell_type": "markdown",
      "source": [
        "### **Visualizando os dados dos Pokemons**"
      ],
      "metadata": {
        "id": "T5rIPkFPdEqP"
      }
    },
    {
      "cell_type": "code",
      "source": [
        "# Bibliotecas para visualizar os dados com gráficos\n",
        "import matplotlib.pyplot as plt"
      ],
      "metadata": {
        "id": "96YHMRHDdDJp"
      },
      "execution_count": 54,
      "outputs": []
    },
    {
      "cell_type": "markdown",
      "source": [
        "#### I) Distribuição dos tipos dos Pokemons (considerando pokemons com mais de um tipo)"
      ],
      "metadata": {
        "id": "MrjqFzI4DxtH"
      }
    },
    {
      "cell_type": "code",
      "source": [
        "# Quebrando a coluna 'types' para o respectivo pokemon e contando quantos tem de cada tipo\n",
        "df_tipos = df.explode('types')\n",
        "tipos_qnt = df_tipos['types'].value_counts()\n",
        "\n",
        "print(\"Quantidade de cada tipo:\")\n",
        "print(tipos_qnt)"
      ],
      "metadata": {
        "colab": {
          "base_uri": "https://localhost:8080/"
        },
        "id": "DA0EhMnNfvfA",
        "outputId": "1d96271a-bdff-4123-e83d-bcbfbfec647b"
      },
      "execution_count": 55,
      "outputs": [
        {
          "output_type": "stream",
          "name": "stdout",
          "text": [
            "Quantidade de cada tipo:\n",
            "types\n",
            "poison      33\n",
            "water       32\n",
            "normal      22\n",
            "flying      19\n",
            "grass       14\n",
            "psychic     14\n",
            "ground      14\n",
            "bug         12\n",
            "fire        12\n",
            "rock        11\n",
            "electric     9\n",
            "fighting     8\n",
            "fairy        5\n",
            "ice          5\n",
            "ghost        3\n",
            "dragon       3\n",
            "steel        2\n",
            "Name: count, dtype: int64\n"
          ]
        }
      ]
    },
    {
      "cell_type": "code",
      "source": [
        "# Gráfico de Barras para quantidade de cada tipo de Pokemon\n",
        "\n",
        "colors = [\n",
        "    \"#82419c\",  # poison\n",
        "    \"#3f8ee8\",  # water\n",
        "    \"#e4e1e6\",  # normal\n",
        "    \"#bbf6fc\",  # flying\n",
        "    \"#176310\",  # grass\n",
        "    \"#cc1680\",  # psychic\n",
        "    \"#ba5406\",  # ground\n",
        "    \"#1bc459\",  # bug\n",
        "    \"#fa2e05\",  # fire\n",
        "    \"#542c0d\",  # rock\n",
        "    \"#ffd608\",  # electric\n",
        "    \"#8a2828\",  # fighting\n",
        "    \"#fc68d2\",  # fairy\n",
        "    \"#80e7f2\",  # ice\n",
        "    \"#491270\",  # ghost\n",
        "    \"#8805e6\",  # dragon\n",
        "    \"#d9d7db\",  # steel\n",
        "]\n",
        "\n",
        "plt.figure(figsize=(10, 6))\n",
        "plt.bar(tipos_qnt.index, tipos_qnt.values, color=colors)\n",
        "plt.title('Quantidade de cada tipo de Pokemon')\n",
        "plt.xlabel('Tipo')\n",
        "plt.ylabel('Quantidade')\n",
        "plt.xticks(rotation=45)\n",
        "plt.show()\n"
      ],
      "metadata": {
        "colab": {
          "base_uri": "https://localhost:8080/",
          "height": 598
        },
        "id": "Qh6IS9nNpLEQ",
        "outputId": "15bac057-994c-4671-81c6-47e1b3329e43"
      },
      "execution_count": 56,
      "outputs": [
        {
          "output_type": "display_data",
          "data": {
            "text/plain": [
              "<Figure size 1000x600 with 1 Axes>"
            ],
            "image/png": "[encoded data removed]"
          },
          "metadata": {}
        }
      ]
    },
    {
      "cell_type": "markdown",
      "source": [
        "#### II) Distribuição dos tipos dos Pokemons (considerando apenas os **tipos primários**)"
      ],
      "metadata": {
        "id": "uCm35mgzECDX"
      }
    },
    {
      "cell_type": "code",
      "source": [
        "# Adicionando nova coluna com valor apenas do tipo primário do Pokemon\n",
        "df['primary_type'] = df['types'].apply(lambda p: p[0])\n",
        "\n",
        "print(\"Tipo Primário de cada Pokemon:\")\n",
        "print(df[['primary_type', 'types']])\n"
      ],
      "metadata": {
        "colab": {
          "base_uri": "https://localhost:8080/"
        },
        "id": "lYWbeFMxEOA4",
        "outputId": "23e751fb-03b1-46df-d78e-026bd77be70b"
      },
      "execution_count": 68,
      "outputs": [
        {
          "output_type": "stream",
          "name": "stdout",
          "text": [
            "Tipo Primário de cada Pokemon:\n",
            "    primary_type             types\n",
            "0          grass   [grass, poison]\n",
            "1          grass   [grass, poison]\n",
            "2          grass   [grass, poison]\n",
            "3           fire            [fire]\n",
            "4           fire            [fire]\n",
            "..           ...               ...\n",
            "146       dragon          [dragon]\n",
            "147       dragon          [dragon]\n",
            "148       dragon  [dragon, flying]\n",
            "149      psychic         [psychic]\n",
            "150      psychic         [psychic]\n",
            "\n",
            "[151 rows x 2 columns]\n"
          ]
        }
      ]
    },
    {
      "cell_type": "code",
      "source": [],
      "metadata": {
        "id": "IYISUsvaJYaO"
      },
      "execution_count": null,
      "outputs": []
    }
  ]
}