{
  "nbformat": 4,
  "nbformat_minor": 0,
  "metadata": {
    "colab": {
      "provenance": [],
      "authorship_tag": "ABX9TyMkQx1fzTJsfVagB8Wxxnv8",
      "include_colab_link": true
    },
    "kernelspec": {
      "name": "python3",
      "display_name": "Python 3"
    },
    "language_info": {
      "name": "python"
    }
  },
  "cells": [
    {
      "cell_type": "markdown",
      "metadata": {
        "id": "view-in-github",
        "colab_type": "text"
      },
      "source": [
        "<a href=\"https://colab.research.google.com/github/noemicho/pokeAPI/blob/main/DesafioParte1.ipynb\" target=\"_parent\"><img src=\"https://colab.research.google.com/assets/colab-badge.svg\" alt=\"Open In Colab\"/></a>"
      ]
    },
    {
      "cell_type": "markdown",
      "source": [
        "## **Desafio Técnico - pokeAPI**"
      ],
      "metadata": {
        "id": "dzd54747Uz55"
      }
    },
    {
      "cell_type": "markdown",
      "source": [
        "#### Escolhendo Pokemon aleatório para visualizar os nomes das colunas"
      ],
      "metadata": {
        "id": "q5zq56klVJR8"
      }
    },
    {
      "cell_type": "code",
      "execution_count": 2,
      "metadata": {
        "id": "gKisxXGkPQoj",
        "colab": {
          "base_uri": "https://localhost:8080/"
        },
        "outputId": "3c838297-29ff-451e-addd-8dcd4816f7df"
      },
      "outputs": [
        {
          "output_type": "stream",
          "name": "stdout",
          "text": [
            "Requisição OK\n",
            "dict_keys(['abilities', 'base_experience', 'cries', 'forms', 'game_indices', 'height', 'held_items', 'id', 'is_default', 'location_area_encounters', 'moves', 'name', 'order', 'past_abilities', 'past_types', 'species', 'sprites', 'stats', 'types', 'weight'])\n"
          ]
        }
      ],
      "source": [
        "# Importando bibliotecas\n",
        "import requests\n",
        "import pandas as pd\n",
        "\n",
        "# URL do pokemon Bulbasaur\n",
        "url_bulbasaur = \"https://pokeapi.co/api/v2/pokemon/bulbasaur\"\n",
        "\n",
        "response = requests.get(url_bulbasaur)\n",
        "\n",
        "# Se a requisição da API for ok, transformar dados para JSON\n",
        "if response.status_code == 200:\n",
        "    print(\"Requisição OK\")\n",
        "    data_bulbasaur = response.json()\n",
        "else:\n",
        "    print(f\"Erro: {response.status_code}\")\n",
        "\n",
        "# Listando as colunas dos dados dos Pokemons\n",
        "print(data_bulbasaur.keys())\n"
      ]
    },
    {
      "cell_type": "markdown",
      "source": [
        "#### Criando Dataframe com mais pokemons com as colunas escolhidas"
      ],
      "metadata": {
        "id": "XnvQtBdMVAwO"
      }
    },
    {
      "cell_type": "code",
      "source": [
        "# Função para pegar dados de um Pokemon pelo id\n",
        "def get_pokemon_data(pokemon_id):\n",
        "    url = f\"https://pokeapi.co/api/v2/pokemon/{pokemon_id}\"\n",
        "    response = requests.get(url)\n",
        "    return response.json() if response.status_code == 200 else None\n",
        "\n",
        "pokemon_list = []\n",
        "\n",
        "# Definindo intervalo para quantidade de pokemons\n",
        "for pokemon_id in range(1, 20):\n",
        "    data = get_pokemon_data(pokemon_id)\n",
        "\n",
        "    # Se a requisição foi ok\n",
        "    if data:\n",
        "        pokemon_data = {\n",
        "            \"name\": data[\"name\"],\n",
        "            \"id\": data[\"id\"],\n",
        "            \"weight\": data[\"weight\"],\n",
        "            \"height\": data[\"height\"],\n",
        "            \"XP\": data[\"base_experience\"],\n",
        "            \"abilities\": [h[\"ability\"][\"name\"] for h in data[\"abilities\"]],\n",
        "            \"moves\": [m[\"move\"][\"name\"] for m in data[\"moves\"]],\n",
        "            \"types\": [t[\"type\"][\"name\"] for t in data[\"types\"]]\n",
        "        }\n",
        "        pokemon_list.append(pokemon_data)\n",
        "    else:\n",
        "        print(\"Erro em coletar dados...\")\n",
        "\n",
        "    # Tranformando em DataFrame\n",
        "    df = pd.DataFrame([pokemon_data])\n",
        "    print(df)\n",
        ""
      ],
      "metadata": {
        "colab": {
          "base_uri": "https://localhost:8080/"
        },
        "id": "l-RLg1Anh3Vq",
        "outputId": "3b5bfcdc-c9c6-4fd8-d019-2eee966453cb"
      },
      "execution_count": 3,
      "outputs": [
        {
          "output_type": "stream",
          "name": "stdout",
          "text": [
            "        name  id  weight  height  XP                abilities  \\\n",
            "0  bulbasaur   1      69       7  64  [overgrow, chlorophyll]   \n",
            "\n",
            "                                               moves            types  \n",
            "0  [razor-wind, swords-dance, cut, bind, vine-whi...  [grass, poison]  \n",
            "      name  id  weight  height   XP                abilities  \\\n",
            "0  ivysaur   2     130      10  142  [overgrow, chlorophyll]   \n",
            "\n",
            "                                               moves            types  \n",
            "0  [swords-dance, cut, bind, vine-whip, headbutt,...  [grass, poison]  \n",
            "       name  id  weight  height   XP                abilities  \\\n",
            "0  venusaur   3    1000      20  263  [overgrow, chlorophyll]   \n",
            "\n",
            "                                               moves            types  \n",
            "0  [swords-dance, cut, bind, vine-whip, headbutt,...  [grass, poison]  \n",
            "         name  id  weight  height  XP             abilities  \\\n",
            "0  charmander   4      85       6  62  [blaze, solar-power]   \n",
            "\n",
            "                                               moves   types  \n",
            "0  [mega-punch, fire-punch, thunder-punch, scratc...  [fire]  \n",
            "         name  id  weight  height   XP             abilities  \\\n",
            "0  charmeleon   5     190      11  142  [blaze, solar-power]   \n",
            "\n",
            "                                               moves   types  \n",
            "0  [mega-punch, fire-punch, thunder-punch, scratc...  [fire]  \n",
            "        name  id  weight  height   XP             abilities  \\\n",
            "0  charizard   6     905      17  267  [blaze, solar-power]   \n",
            "\n",
            "                                               moves           types  \n",
            "0  [mega-punch, fire-punch, thunder-punch, scratc...  [fire, flying]  \n",
            "       name  id  weight  height  XP             abilities  \\\n",
            "0  squirtle   7      90       5  63  [torrent, rain-dish]   \n",
            "\n",
            "                                               moves    types  \n",
            "0  [mega-punch, ice-punch, mega-kick, headbutt, t...  [water]  \n",
            "        name  id  weight  height   XP             abilities  \\\n",
            "0  wartortle   8     225      10  142  [torrent, rain-dish]   \n",
            "\n",
            "                                               moves    types  \n",
            "0  [mega-punch, ice-punch, mega-kick, headbutt, t...  [water]  \n",
            "        name  id  weight  height   XP             abilities  \\\n",
            "0  blastoise   9     855      16  265  [torrent, rain-dish]   \n",
            "\n",
            "                                               moves    types  \n",
            "0  [mega-punch, ice-punch, mega-kick, headbutt, t...  [water]  \n",
            "       name  id  weight  height  XP                abilities  \\\n",
            "0  caterpie  10      29       3  39  [shield-dust, run-away]   \n",
            "\n",
            "                                               moves  types  \n",
            "0  [tackle, string-shot, snore, bug-bite, electro...  [bug]  \n",
            "      name  id  weight  height  XP    abilities  \\\n",
            "0  metapod  11      99       7  72  [shed-skin]   \n",
            "\n",
            "                                               moves  types  \n",
            "0  [string-shot, harden, iron-defense, bug-bite, ...  [bug]  \n",
            "         name  id  weight  height   XP                     abilities  \\\n",
            "0  butterfree  12     320      11  198  [compound-eyes, tinted-lens]   \n",
            "\n",
            "                                               moves          types  \n",
            "0  [razor-wind, gust, whirlwind, headbutt, tackle...  [bug, flying]  \n",
            "     name  id  weight  height  XP                abilities  \\\n",
            "0  weedle  13      32       3  39  [shield-dust, run-away]   \n",
            "\n",
            "                                               moves          types  \n",
            "0  [poison-sting, string-shot, bug-bite, electroweb]  [bug, poison]  \n",
            "     name  id  weight  height  XP    abilities  \\\n",
            "0  kakuna  14     100       6  72  [shed-skin]   \n",
            "\n",
            "                                               moves          types  \n",
            "0  [string-shot, harden, iron-defense, bug-bite, ...  [bug, poison]  \n",
            "       name  id  weight  height   XP        abilities  \\\n",
            "0  beedrill  15     295      10  178  [swarm, sniper]   \n",
            "\n",
            "                                               moves          types  \n",
            "0  [swords-dance, cut, headbutt, fury-attack, tak...  [bug, poison]  \n",
            "     name  id  weight  height  XP                            abilities  \\\n",
            "0  pidgey  16      18       3  50  [keen-eye, tangled-feet, big-pecks]   \n",
            "\n",
            "                                               moves             types  \n",
            "0  [razor-wind, gust, wing-attack, whirlwind, fly...  [normal, flying]  \n",
            "        name  id  weight  height   XP                            abilities  \\\n",
            "0  pidgeotto  17     300      11  122  [keen-eye, tangled-feet, big-pecks]   \n",
            "\n",
            "                                               moves             types  \n",
            "0  [razor-wind, gust, wing-attack, whirlwind, fly...  [normal, flying]  \n",
            "      name  id  weight  height   XP                            abilities  \\\n",
            "0  pidgeot  18     395      15  216  [keen-eye, tangled-feet, big-pecks]   \n",
            "\n",
            "                                               moves             types  \n",
            "0  [razor-wind, gust, wing-attack, whirlwind, fly...  [normal, flying]  \n",
            "      name  id  weight  height  XP                 abilities  \\\n",
            "0  rattata  19      35       3  51  [run-away, guts, hustle]   \n",
            "\n",
            "                                               moves     types  \n",
            "0  [cut, headbutt, tackle, body-slam, take-down, ...  [normal]  \n"
          ]
        }
      ]
    }
  ]
}