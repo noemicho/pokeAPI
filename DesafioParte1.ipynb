{
  "nbformat": 4,
  "nbformat_minor": 0,
  "metadata": {
    "colab": {
      "provenance": [],
      "authorship_tag": "ABX9TyNuitGMdI2tXN/wOF6BeyYW",
      "include_colab_link": true
    },
    "kernelspec": {
      "name": "python3",
      "display_name": "Python 3"
    },
    "language_info": {
      "name": "python"
    }
  },
  "cells": [
    {
      "cell_type": "markdown",
      "metadata": {
        "id": "view-in-github",
        "colab_type": "text"
      },
      "source": [
        "<a href=\"https://colab.research.google.com/github/noemicho/pokeAPI/blob/main/DesafioParte1.ipynb\" target=\"_parent\"><img src=\"https://colab.research.google.com/assets/colab-badge.svg\" alt=\"Open In Colab\"/></a>"
      ]
    },
    {
      "cell_type": "code",
      "execution_count": 21,
      "metadata": {
        "id": "gKisxXGkPQoj",
        "colab": {
          "base_uri": "https://localhost:8080/"
        },
        "outputId": "9a4ee6eb-e958-4e9d-a510-e62d274f045f"
      },
      "outputs": [
        {
          "output_type": "stream",
          "name": "stdout",
          "text": [
            "Requisição OK\n",
            "dict_keys(['abilities', 'base_experience', 'cries', 'forms', 'game_indices', 'height', 'held_items', 'id', 'is_default', 'location_area_encounters', 'moves', 'name', 'order', 'past_abilities', 'past_types', 'species', 'sprites', 'stats', 'types', 'weight'])\n"
          ]
        }
      ],
      "source": [
        "# Importando bibliotecas necessárias\n",
        "import requests\n",
        "import pandas as pd\n",
        "\n",
        "## Escolhendo Pokemon aleatório para visualizar os nomes das colunas\n",
        "\n",
        "# URL do pokemon Ditto\n",
        "url_ditto = \"https://pokeapi.co/api/v2/pokemon/ditto\"\n",
        "\n",
        "response = requests.get(url_ditto)\n",
        "\n",
        "# Se a requisição da API for ok, transformar dados para JSON\n",
        "if response.status_code == 200:\n",
        "    print(\"Requisição OK\")\n",
        "    data_ditto = response.json()\n",
        "else:\n",
        "    print(f\"Erro: {response.status_code}\")\n",
        "\n",
        "# Listando as colunas dos dados dos Pokemons\n",
        "print(data_ditto.keys())\n"
      ]
    }
  ]
}